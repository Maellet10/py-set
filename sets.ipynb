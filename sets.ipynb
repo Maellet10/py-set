{
  "nbformat": 4,
  "nbformat_minor": 0,
  "metadata": {
    "colab": {
      "provenance": [],
      "collapsed_sections": [],
      "authorship_tag": "ABX9TyMUT546m6Qck3y0Bu1y7dsy",
      "include_colab_link": true
    },
    "kernelspec": {
      "name": "python3",
      "display_name": "Python 3"
    },
    "language_info": {
      "name": "python"
    }
  },
  "cells": [
    {
      "cell_type": "markdown",
      "metadata": {
        "id": "view-in-github",
        "colab_type": "text"
      },
      "source": [
        "<a href=\"https://colab.research.google.com/github/Maellet10/py-set/blob/main/sets.ipynb\" target=\"_parent\"><img src=\"https://colab.research.google.com/assets/colab-badge.svg\" alt=\"Open In Colab\"/></a>"
      ]
    },
    {
      "cell_type": "markdown",
      "source": [
        "### Working with Sets in Python:"
      ],
      "metadata": {
        "id": "n9DFSnA3rpFd"
      }
    },
    {
      "cell_type": "code",
      "source": [
        "# Creating an empty Set\n",
        "my_set = set()\n",
        "my_set"
      ],
      "metadata": {
        "colab": {
          "base_uri": "https://localhost:8080/"
        },
        "id": "65dN-Ar_ryGp",
        "outputId": "322c6e58-7b76-4ac8-d00f-213dd51b463b"
      },
      "execution_count": 19,
      "outputs": [
        {
          "output_type": "execute_result",
          "data": {
            "text/plain": [
              "set()"
            ]
          },
          "metadata": {},
          "execution_count": 19
        }
      ]
    },
    {
      "cell_type": "code",
      "source": [
        "# Creating a Set with some contents\n",
        "my_set = {10, 20, 30, 40, 50, 60}\n",
        "my_set "
      ],
      "metadata": {
        "colab": {
          "base_uri": "https://localhost:8080/"
        },
        "id": "b1zwv8BGvcem",
        "outputId": "da14b8bc-f73c-435e-ff4a-d13fa6067966"
      },
      "execution_count": 20,
      "outputs": [
        {
          "output_type": "execute_result",
          "data": {
            "text/plain": [
              "{10, 20, 30, 40, 50, 60}"
            ]
          },
          "metadata": {},
          "execution_count": 20
        }
      ]
    },
    {
      "cell_type": "code",
      "source": [
        "# Creating a Set using a list\n",
        "my_fruits = set([\"Apple\", \"Banana\", \"Avocado\", \"Lime\", \"Pine Apple\"])\n",
        "my_fruits"
      ],
      "metadata": {
        "colab": {
          "base_uri": "https://localhost:8080/"
        },
        "id": "Exuu2xg3v7ge",
        "outputId": "61fdc541-7572-4478-ba24-519f5b073da8"
      },
      "execution_count": 21,
      "outputs": [
        {
          "output_type": "execute_result",
          "data": {
            "text/plain": [
              "{'Apple', 'Avocado', 'Banana', 'Lime', 'Pine Apple'}"
            ]
          },
          "metadata": {},
          "execution_count": 21
        }
      ]
    },
    {
      "cell_type": "code",
      "source": [
        "# # Iterating over a Set\n",
        "my_fruits = set([\"Apple\", \"Banana\", \"Avocado\", \"Lime\", \"Pine Apple\"])\n",
        "\n",
        "for fruit in my_fruits:\n",
        "    print(fruit)"
      ],
      "metadata": {
        "colab": {
          "base_uri": "https://localhost:8080/"
        },
        "outputId": "db19e32d-200f-4507-bfb8-f98439c5fec5",
        "id": "MEw4jnPTwrnY"
      },
      "execution_count": 22,
      "outputs": [
        {
          "output_type": "stream",
          "name": "stdout",
          "text": [
            "Lime\n",
            "Avocado\n",
            "Banana\n",
            "Apple\n",
            "Pine Apple\n"
          ]
        }
      ]
    },
    {
      "cell_type": "code",
      "source": [
        "### Creating a set by pasing a tuple\n",
        "grade_scores = set((90, 30, 40, 70, 85, 70, 30,))\n",
        "print(grade_scores)\n",
        "\n",
        "# Adding an element into the set\n",
        "grade_scores.add(100)\n",
        "print(grade_scores)\n",
        "\n",
        "# Removing an element into the set\n",
        "grade_scores.remove(100)\n",
        "print(grade_scores)"
      ],
      "metadata": {
        "colab": {
          "base_uri": "https://localhost:8080/"
        },
        "id": "w5jbtxqiZm43",
        "outputId": "2d6ec8e1-4c71-44e4-b5d5-2e156796e365"
      },
      "execution_count": 23,
      "outputs": [
        {
          "output_type": "stream",
          "name": "stdout",
          "text": [
            "{70, 40, 85, 90, 30}\n",
            "{100, 70, 40, 85, 90, 30}\n",
            "{70, 40, 85, 90, 30}\n"
          ]
        }
      ]
    },
    {
      "cell_type": "code",
      "source": [
        "### Creating a set by pasing a tuple\n",
        "grade_scores = set((90, 30, 40, 70, 85, 70, 30,))\n",
        "print(grade_scores)\n",
        "\n",
        "### Adding multiple elements into the set using the update() method\n",
        "# Using a list to update the set\n",
        "grade_scores.update([88, 99, 95, 77, 97]) \n",
        "grade_scores\n",
        "\n",
        "# Using a tuple to update the set\n",
        "grade_scores.update((88, 49, 95, 78, 97,))\n",
        "grade_scores"
      ],
      "metadata": {
        "colab": {
          "base_uri": "https://localhost:8080/"
        },
        "id": "8QZsJyD9hCKa",
        "outputId": "2aef1b4e-df4b-48ff-a159-d0fbcaa65ef8"
      },
      "execution_count": 24,
      "outputs": [
        {
          "output_type": "stream",
          "name": "stdout",
          "text": [
            "{70, 40, 85, 90, 30}\n"
          ]
        },
        {
          "output_type": "execute_result",
          "data": {
            "text/plain": [
              "{30, 40, 49, 70, 77, 78, 85, 88, 90, 95, 97, 99}"
            ]
          },
          "metadata": {},
          "execution_count": 24
        }
      ]
    },
    {
      "cell_type": "code",
      "source": [
        "### Creating a frozenset in python\n",
        "grade_scores = frozenset((90, 30, 40, 70, 85, 70, 30,))\n",
        "print(grade_scores)\n",
        "\n",
        "# Adding an element into a frozenset\n",
        "#grade_scores.add(100)\n",
        "print(grade_scores)\n",
        "\n",
        "# Removing an element into a frozenset\n",
        "#grade_scores.remove(100)\n",
        "print(grade_scores)"
      ],
      "metadata": {
        "colab": {
          "base_uri": "https://localhost:8080/"
        },
        "id": "p_eKSebRa8F9",
        "outputId": "0fb41011-b058-431a-8ef0-c611d59820ad"
      },
      "execution_count": 25,
      "outputs": [
        {
          "output_type": "stream",
          "name": "stdout",
          "text": [
            "frozenset({70, 40, 85, 90, 30})\n",
            "frozenset({70, 40, 85, 90, 30})\n",
            "frozenset({70, 40, 85, 90, 30})\n"
          ]
        }
      ]
    },
    {
      "cell_type": "code",
      "source": [
        "### Creating a set using the Curly Brases\n",
        "my_scores = {10}\n",
        "print(type(my_scores))"
      ],
      "metadata": {
        "colab": {
          "base_uri": "https://localhost:8080/"
        },
        "id": "YYyn8snJdDBb",
        "outputId": "02b7f24e-fcd5-471f-e200-5db84a94a45e"
      },
      "execution_count": 26,
      "outputs": [
        {
          "output_type": "stream",
          "name": "stdout",
          "text": [
            "<class 'set'>\n"
          ]
        }
      ]
    }
  ]
}
{
  "nbformat": 4,
  "nbformat_minor": 0,
  "metadata": {
    "colab": {
      "provenance": [],
      "authorship_tag": "ABX9TyOTNxbPiMfcI5Nr48H2Opyk",
      "include_colab_link": true
    },
    "kernelspec": {
      "name": "python3",
      "display_name": "Python 3"
    },
    "language_info": {
      "name": "python"
    }
  },
  "cells": [
    {
      "cell_type": "markdown",
      "metadata": {
        "id": "view-in-github",
        "colab_type": "text"
      },
      "source": [
        "<a href=\"https://colab.research.google.com/github/Maellet10/py-set/blob/main/sets.ipynb\" target=\"_parent\"><img src=\"https://colab.research.google.com/assets/colab-badge.svg\" alt=\"Open In Colab\"/></a>"
      ]
    },
    {
      "cell_type": "markdown",
      "source": [
        "### Working with Sets in Python:"
      ],
      "metadata": {
        "id": "n9DFSnA3rpFd"
      }
    },
    {
      "cell_type": "code",
      "source": [
        "# Creating an empty Set\n",
        "my_set = set()\n",
        "my_set"
      ],
      "metadata": {
        "colab": {
          "base_uri": "https://localhost:8080/"
        },
        "id": "65dN-Ar_ryGp",
        "outputId": "edac4b44-01a6-42b4-8c2b-1d180b80ee27"
      },
      "execution_count": 2,
      "outputs": [
        {
          "output_type": "execute_result",
          "data": {
            "text/plain": [
              "set()"
            ]
          },
          "metadata": {},
          "execution_count": 2
        }
      ]
    },
    {
      "cell_type": "code",
      "source": [
        "# Creating a Set with some contents\n",
        "my_set = {10, 20, 30, 40, 50, 60}\n",
        "my_set "
      ],
      "metadata": {
        "colab": {
          "base_uri": "https://localhost:8080/"
        },
        "id": "b1zwv8BGvcem",
        "outputId": "85b5292e-9783-434b-81d8-4beb83d5e8ac"
      },
      "execution_count": 3,
      "outputs": [
        {
          "output_type": "execute_result",
          "data": {
            "text/plain": [
              "{10, 20, 30, 40, 50, 60}"
            ]
          },
          "metadata": {},
          "execution_count": 3
        }
      ]
    },
    {
      "cell_type": "code",
      "source": [
        "# Creating a Set using a list\n",
        "my_fruits = set([\"Apple\", \"Banana\", \"Avocado\", \"Lime\", \"Pine Apple\"])\n",
        "my_fruits"
      ],
      "metadata": {
        "colab": {
          "base_uri": "https://localhost:8080/"
        },
        "id": "Exuu2xg3v7ge",
        "outputId": "37908c51-b57a-476e-c172-4be1fc306db9"
      },
      "execution_count": 5,
      "outputs": [
        {
          "output_type": "execute_result",
          "data": {
            "text/plain": [
              "{'Apple', 'Avocado', 'Banana', 'Lime', 'Pine Apple'}"
            ]
          },
          "metadata": {},
          "execution_count": 5
        }
      ]
    },
    {
      "cell_type": "code",
      "source": [
        "# # Iterating over a Set\n",
        "my_fruits = set([\"Apple\", \"Banana\", \"Avocado\", \"Lime\", \"Pine Apple\"])\n",
        "\n",
        "for fruit in my_fruits:\n",
        "    print(fruit)"
      ],
      "metadata": {
        "colab": {
          "base_uri": "https://localhost:8080/"
        },
        "outputId": "c24b0efd-4383-47ff-97fd-656b935d9316",
        "id": "MEw4jnPTwrnY"
      },
      "execution_count": 7,
      "outputs": [
        {
          "output_type": "stream",
          "name": "stdout",
          "text": [
            "Apple\n",
            "Pine Apple\n",
            "Banana\n",
            "Avocado\n",
            "Lime\n"
          ]
        }
      ]
    }
  ]
}